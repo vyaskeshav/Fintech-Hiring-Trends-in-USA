{
 "cells": [
  {
   "cell_type": "code",
   "execution_count": 3,
   "metadata": {},
   "outputs": [],
   "source": [
    "# import libraries\n",
    "import pandas as pd\n",
    "import string\n",
    "import collections\n",
    "import glob\n",
    "import csv\n",
    "import os"
   ]
  },
  {
   "cell_type": "code",
   "execution_count": null,
   "metadata": {},
   "outputs": [],
   "source": [
    "if os.path.exists(\"MergedData.csv\"):\n",
    "    os.remove(\"MergedData.csv\")\n",
    "    \n",
    "with open('MergedData.csv', 'w', newline='') as csvFile:\n",
    "    wr = csv.writer(csvFile, dialect='excel')\n",
    "    wr.writerow(['Sr. No.', 'Bank Name', 'Job Desc','Job Title','URL'])"
   ]
  },
  {
   "cell_type": "code",
   "execution_count": null,
   "metadata": {},
   "outputs": [],
   "source": [
    "bankjobs_csvs = sorted(glob.glob('bankjobs*.csv'))\n",
    "count = 0\n",
    "for findex,csvpath in enumerate(bankjobs_csvs):\n",
    "    csv_file=pd.read_csv(csvpath)\n",
    "    count = count + 1\n",
    "    addtomergedcsv = [count]\n",
    "    for index,row in csv_file.iterrows():\n",
    "        addtomergedcsv.append(csv_file['Bank Name'][index])\n",
    "        addtomergedcsv.append(csv_file['Job Desc'][index])\n",
    "        addtomergedcsv.append(csv_file['Job Title'][index])\n",
    "        addtomergedcsv.append(csv_file['URL'][index])\n",
    "    with open('MergedData.csv', \"a\", newline='') as csvFile:\n",
    "            wr = csv.writer(csvFile, dialect='excel')\n",
    "            try:\n",
    "                wr.writerow(addtomergedcsv)\n",
    "            except:\n",
    "                continue;\n",
    "csvFile.close()         "
   ]
  }
 ],
 "metadata": {
  "kernelspec": {
   "display_name": "Python 3",
   "language": "python",
   "name": "python3"
  },
  "language_info": {
   "codemirror_mode": {
    "name": "ipython",
    "version": 3
   },
   "file_extension": ".py",
   "mimetype": "text/x-python",
   "name": "python",
   "nbconvert_exporter": "python",
   "pygments_lexer": "ipython3",
   "version": "3.7.2"
  }
 },
 "nbformat": 4,
 "nbformat_minor": 2
}
