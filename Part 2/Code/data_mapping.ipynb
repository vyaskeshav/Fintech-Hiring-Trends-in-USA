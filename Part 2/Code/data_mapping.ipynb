{
 "cells": [
  {
   "cell_type": "code",
   "execution_count": 4,
   "metadata": {},
   "outputs": [],
   "source": [
    "# import libraries\n",
    "import pandas as pd\n",
    "import string\n",
    "import collections\n",
    "import glob\n",
    "import csv\n",
    "import os"
   ]
  },
  {
   "cell_type": "code",
   "execution_count": 6,
   "metadata": {},
   "outputs": [],
   "source": [
    "FinalData=pd.DataFrame()\n",
    "buckets = pd.read_csv('fintech_keywords.csv')\n",
    "merged_banks = pd.read_csv('merged_data_all_banks.csv')\n",
    "\n",
    "keywords_dict = {}\n",
    "\n",
    "for index,row in buckets.iterrows():\n",
    "    if buckets['Cluster'][index] in keywords_dict:\n",
    "        keywords_dict[buckets['Cluster'][index]].append(buckets['Keywords'][index]) \n",
    "    else:\n",
    "        keywords_dict[buckets['Cluster'][index]] = [buckets['Keywords'][index]]\n",
    "\n",
    "if os.path.exists(\"FinalData.csv\"):\n",
    "    os.remove(\"FinalData.csv\")\n",
    "    \n",
    "with open('FinalData.csv', 'w', newline='') as csvFile:\n",
    "    wr = csv.writer(csvFile, dialect='excel')\n",
    "    wr.writerow(['Job ID', 'Job Title', 'Bank Name','Fintech','Matched Cluster', 'Matched Words','Number of Words Matched','URL'])"
   ]
  },
  {
   "cell_type": "code",
   "execution_count": 7,
   "metadata": {},
   "outputs": [],
   "source": [
    "count = 0\n",
    "for index,row in merged_banks.iterrows():\n",
    "    count = count + 1\n",
    "    addtocsv = [count]\n",
    "    fintech_flag = 'No'\n",
    "    matched_clusters = []\n",
    "    matched_words = []\n",
    "    job_desc = merged_banks['Job Desc'][index]\n",
    "    addtocsv.append(merged_banks['Job Title'][index])\n",
    "    addtocsv.append(merged_banks['Bank Name'][index])\n",
    "    for cluster, keywordlist in keywords_dict.items():\n",
    "        for keyword in keywordlist:\n",
    "            if str(keyword).lower() in str(job_desc).lower():\n",
    "                fintech_flag = 'Yes'\n",
    "                if cluster not in matched_clusters:\n",
    "                    matched_clusters.append(cluster)\n",
    "                matched_words.append(str(keyword))\n",
    "                \n",
    "    addtocsv.append(fintech_flag)\n",
    "    addtocsv.append(\",\".join(matched_clusters))\n",
    "    addtocsv.append(\",\".join(matched_words))\n",
    "    addtocsv.append(len(matched_words))\n",
    "    addtocsv.append(merged_banks['URL'][index])\n",
    "    with open('FinalData.csv', \"a\", newline='') as csvFile:\n",
    "            wr = csv.writer(csvFile, dialect='excel')\n",
    "            try:\n",
    "                wr.writerow(addtocsv)\n",
    "            except:\n",
    "                continue;\n",
    "csvFile.close()        "
   ]
  },
  {
   "cell_type": "code",
   "execution_count": null,
   "metadata": {},
   "outputs": [],
   "source": []
  }
 ],
 "metadata": {
  "kernelspec": {
   "display_name": "Python 3",
   "language": "python",
   "name": "python3"
  },
  "language_info": {
   "codemirror_mode": {
    "name": "ipython",
    "version": 3
   },
   "file_extension": ".py",
   "mimetype": "text/x-python",
   "name": "python",
   "nbconvert_exporter": "python",
   "pygments_lexer": "ipython3",
   "version": "3.7.2"
  }
 },
 "nbformat": 4,
 "nbformat_minor": 2
}
